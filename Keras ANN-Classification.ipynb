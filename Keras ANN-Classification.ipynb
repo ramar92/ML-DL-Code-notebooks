{
 "cells": [
  {
   "cell_type": "markdown",
   "metadata": {},
   "source": [
    "# ANN Keras-classification"
   ]
  },
  {
   "cell_type": "code",
   "execution_count": 1,
   "metadata": {},
   "outputs": [],
   "source": [
    "import keras"
   ]
  },
  {
   "cell_type": "code",
   "execution_count": 12,
   "metadata": {},
   "outputs": [],
   "source": [
    "from sklearn.datasets import make_regression\n",
    "from sklearn.model_selection import train_test_split\n",
    "\n",
    "from keras.models import Sequential\n",
    "from keras.layers import Activation, Dense, Dropout, LeakyReLU\n",
    "from keras.optimizers import SGD, Adam\n",
    "\n",
    "\n",
    "from time import time\n",
    "import matplotlib.pyplot as plt\n",
    "import numpy as np\n",
    "from keras.losses import categorical_crossentropy\n",
    "\n",
    "from keras.datasets import mnist\n",
    "from sklearn import preprocessing"
   ]
  },
  {
   "cell_type": "code",
   "execution_count": 4,
   "metadata": {},
   "outputs": [
    {
     "name": "stdout",
     "output_type": "stream",
     "text": [
      "Downloading data from https://storage.googleapis.com/tensorflow/tf-keras-datasets/mnist.npz\n",
      "11490434/11490434 [==============================] - 2s 0us/step\n"
     ]
    }
   ],
   "source": [
    "(x_train, y_train), (x_test, y_test) = mnist.load_data()"
   ]
  },
  {
   "cell_type": "code",
   "execution_count": 5,
   "metadata": {},
   "outputs": [],
   "source": [
    "x_train = x_train.reshape(-1,784)\n",
    "x_test = x_test.reshape(-1,784)"
   ]
  },
  {
   "cell_type": "code",
   "execution_count": 6,
   "metadata": {},
   "outputs": [
    {
     "data": {
      "text/plain": [
       "(10000, 784)"
      ]
     },
     "execution_count": 6,
     "metadata": {},
     "output_type": "execute_result"
    }
   ],
   "source": [
    "x_test.shape"
   ]
  },
  {
   "cell_type": "code",
   "execution_count": 7,
   "metadata": {},
   "outputs": [],
   "source": [
    "X_train = preprocessing.normalize(x_train)\n",
    "X_test = preprocessing.normalize(x_test)"
   ]
  },
  {
   "cell_type": "code",
   "execution_count": 8,
   "metadata": {},
   "outputs": [
    {
     "data": {
      "text/plain": [
       "3"
      ]
     },
     "execution_count": 8,
     "metadata": {},
     "output_type": "execute_result"
    }
   ],
   "source": [
    "y_train[10]"
   ]
  },
  {
   "cell_type": "code",
   "execution_count": 9,
   "metadata": {},
   "outputs": [
    {
     "ename": "NameError",
     "evalue": "name 'np_utils' is not defined",
     "output_type": "error",
     "traceback": [
      "\u001b[1;31m---------------------------------------------------------------------------\u001b[0m",
      "\u001b[1;31mNameError\u001b[0m                                 Traceback (most recent call last)",
      "Cell \u001b[1;32mIn[9], line 1\u001b[0m\n\u001b[1;32m----> 1\u001b[0m y_train \u001b[38;5;241m=\u001b[39m \u001b[43mnp_utils\u001b[49m\u001b[38;5;241m.\u001b[39mto_categorical(y_train)\n\u001b[0;32m      2\u001b[0m y_test \u001b[38;5;241m=\u001b[39m np_utils\u001b[38;5;241m.\u001b[39mto_categorical(y_test)\n",
      "\u001b[1;31mNameError\u001b[0m: name 'np_utils' is not defined"
     ]
    }
   ],
   "source": [
    "y_train = np_utils.to_categorical(y_train)\n",
    "y_test = np_utils.to_categorical(y_test)"
   ]
  },
  {
   "cell_type": "code",
   "execution_count": 15,
   "metadata": {},
   "outputs": [
    {
     "data": {
      "text/plain": [
       "array([0., 0., 0., 1., 0., 0., 0., 0., 0., 0.], dtype=float32)"
      ]
     },
     "execution_count": 15,
     "metadata": {},
     "output_type": "execute_result"
    }
   ],
   "source": [
    "y_train[10]"
   ]
  },
  {
   "cell_type": "code",
   "execution_count": 16,
   "metadata": {},
   "outputs": [],
   "source": [
    "model = Sequential()\n",
    "\n",
    "# 1st hidden layer\n",
    "model.add(Dense(256, input_shape=(784,),\n",
    "                activation = 'relu'))\n",
    "model.add(Dropout(0.2))\n",
    "\n",
    "# 2nd hidden layer\n",
    "model.add(Dense(128, activation='relu'))\n",
    "\n",
    "# 3rd hidden layer\n",
    "model.add(Dense(32, activation='relu'))\n",
    "model.add(Dropout(0.2))\n",
    "\n",
    "# output layer\n",
    "model.add(Dense(10, activation='softmax'))"
   ]
  },
  {
   "cell_type": "code",
   "execution_count": 17,
   "metadata": {},
   "outputs": [
    {
     "name": "stdout",
     "output_type": "stream",
     "text": [
      "_________________________________________________________________\n",
      "Layer (type)                 Output Shape              Param #   \n",
      "=================================================================\n",
      "dense_1 (Dense)              (None, 256)               200960    \n",
      "_________________________________________________________________\n",
      "dropout_1 (Dropout)          (None, 256)               0         \n",
      "_________________________________________________________________\n",
      "dense_2 (Dense)              (None, 128)               32896     \n",
      "_________________________________________________________________\n",
      "dense_3 (Dense)              (None, 32)                4128      \n",
      "_________________________________________________________________\n",
      "dropout_2 (Dropout)          (None, 32)                0         \n",
      "_________________________________________________________________\n",
      "dense_4 (Dense)              (None, 10)                330       \n",
      "=================================================================\n",
      "Total params: 238,314\n",
      "Trainable params: 238,314\n",
      "Non-trainable params: 0\n",
      "_________________________________________________________________\n"
     ]
    }
   ],
   "source": [
    "model.summary()"
   ]
  },
  {
   "cell_type": "code",
   "execution_count": 18,
   "metadata": {},
   "outputs": [],
   "source": [
    "model.compile(optimizer=Adam(lr=0.001), \n",
    "             loss = categorical_crossentropy,\n",
    "             metrics=['accuracy'])"
   ]
  },
  {
   "cell_type": "code",
   "execution_count": 19,
   "metadata": {},
   "outputs": [
    {
     "name": "stdout",
     "output_type": "stream",
     "text": [
      "Train on 45000 samples, validate on 15000 samples\n",
      "Epoch 1/50\n",
      "45000/45000 [==============================] - 11s 248us/step - loss: 0.8821 - acc: 0.7260 - val_loss: 0.3036 - val_acc: 0.9130\n",
      "Epoch 2/50\n",
      "45000/45000 [==============================] - 2s 50us/step - loss: 0.3236 - acc: 0.9068 - val_loss: 0.2030 - val_acc: 0.9405\n",
      "Epoch 3/50\n",
      "45000/45000 [==============================] - 2s 50us/step - loss: 0.2337 - acc: 0.9331 - val_loss: 0.1595 - val_acc: 0.9536\n",
      "Epoch 4/50\n",
      "45000/45000 [==============================] - 2s 53us/step - loss: 0.1824 - acc: 0.9472 - val_loss: 0.1355 - val_acc: 0.9601\n",
      "Epoch 5/50\n",
      "45000/45000 [==============================] - 2s 52us/step - loss: 0.1550 - acc: 0.9558 - val_loss: 0.1207 - val_acc: 0.9637\n",
      "Epoch 6/50\n",
      "45000/45000 [==============================] - 2s 52us/step - loss: 0.1334 - acc: 0.9612 - val_loss: 0.1134 - val_acc: 0.9663\n",
      "Epoch 7/50\n",
      "45000/45000 [==============================] - 2s 50us/step - loss: 0.1157 - acc: 0.9662 - val_loss: 0.1051 - val_acc: 0.9691\n",
      "Epoch 8/50\n",
      "45000/45000 [==============================] - 2s 52us/step - loss: 0.1001 - acc: 0.9711 - val_loss: 0.1047 - val_acc: 0.9699\n",
      "Epoch 9/50\n",
      "45000/45000 [==============================] - 2s 52us/step - loss: 0.0922 - acc: 0.9733 - val_loss: 0.0931 - val_acc: 0.9729\n",
      "Epoch 10/50\n",
      "45000/45000 [==============================] - 2s 54us/step - loss: 0.0780 - acc: 0.9770 - val_loss: 0.0930 - val_acc: 0.9723\n",
      "Epoch 11/50\n",
      "45000/45000 [==============================] - 2s 55us/step - loss: 0.0704 - acc: 0.9798 - val_loss: 0.0877 - val_acc: 0.9743\n",
      "Epoch 12/50\n",
      "45000/45000 [==============================] - 2s 54us/step - loss: 0.0632 - acc: 0.9820 - val_loss: 0.0886 - val_acc: 0.9745\n",
      "Epoch 13/50\n",
      "45000/45000 [==============================] - 2s 51us/step - loss: 0.0616 - acc: 0.9818 - val_loss: 0.0914 - val_acc: 0.9750\n",
      "Epoch 14/50\n",
      "45000/45000 [==============================] - 2s 52us/step - loss: 0.0559 - acc: 0.9834 - val_loss: 0.0878 - val_acc: 0.9749\n",
      "Epoch 15/50\n",
      "45000/45000 [==============================] - 2s 53us/step - loss: 0.0502 - acc: 0.9851 - val_loss: 0.0814 - val_acc: 0.9771\n",
      "Epoch 16/50\n",
      "45000/45000 [==============================] - 2s 53us/step - loss: 0.0482 - acc: 0.9849 - val_loss: 0.0853 - val_acc: 0.9765\n",
      "Epoch 17/50\n",
      "45000/45000 [==============================] - 3s 61us/step - loss: 0.0408 - acc: 0.9880 - val_loss: 0.0894 - val_acc: 0.9763\n",
      "Epoch 18/50\n",
      "45000/45000 [==============================] - 2s 54us/step - loss: 0.0385 - acc: 0.9885 - val_loss: 0.0842 - val_acc: 0.9767\n",
      "Epoch 19/50\n",
      "45000/45000 [==============================] - 2s 51us/step - loss: 0.0345 - acc: 0.9898 - val_loss: 0.0832 - val_acc: 0.9777\n",
      "Epoch 20/50\n",
      "45000/45000 [==============================] - 2s 54us/step - loss: 0.0313 - acc: 0.9905 - val_loss: 0.0859 - val_acc: 0.9775\n",
      "Epoch 21/50\n",
      "45000/45000 [==============================] - 2s 52us/step - loss: 0.0307 - acc: 0.9907 - val_loss: 0.0853 - val_acc: 0.9781\n",
      "Epoch 22/50\n",
      "45000/45000 [==============================] - 2s 51us/step - loss: 0.0282 - acc: 0.9914 - val_loss: 0.0841 - val_acc: 0.9791\n",
      "Epoch 23/50\n",
      "45000/45000 [==============================] - 2s 52us/step - loss: 0.0284 - acc: 0.9916 - val_loss: 0.0864 - val_acc: 0.9783\n",
      "Epoch 24/50\n",
      "45000/45000 [==============================] - 2s 51us/step - loss: 0.0247 - acc: 0.9928 - val_loss: 0.0834 - val_acc: 0.9794\n",
      "Epoch 25/50\n",
      "45000/45000 [==============================] - 2s 51us/step - loss: 0.0235 - acc: 0.9929 - val_loss: 0.0898 - val_acc: 0.9777\n",
      "Epoch 26/50\n",
      "45000/45000 [==============================] - 2s 52us/step - loss: 0.0221 - acc: 0.9930 - val_loss: 0.0982 - val_acc: 0.9758\n",
      "Epoch 27/50\n",
      "45000/45000 [==============================] - 2s 52us/step - loss: 0.0220 - acc: 0.9927 - val_loss: 0.0841 - val_acc: 0.9791\n",
      "Epoch 28/50\n",
      "45000/45000 [==============================] - 2s 52us/step - loss: 0.0200 - acc: 0.9938 - val_loss: 0.0894 - val_acc: 0.9785\n",
      "Epoch 29/50\n",
      "45000/45000 [==============================] - 2s 51us/step - loss: 0.0209 - acc: 0.9937 - val_loss: 0.0957 - val_acc: 0.9774\n",
      "Epoch 30/50\n",
      "45000/45000 [==============================] - 2s 52us/step - loss: 0.0182 - acc: 0.9941 - val_loss: 0.0964 - val_acc: 0.9787\n",
      "Epoch 31/50\n",
      "45000/45000 [==============================] - 2s 52us/step - loss: 0.0170 - acc: 0.9946 - val_loss: 0.0958 - val_acc: 0.9781\n",
      "Epoch 32/50\n",
      "45000/45000 [==============================] - 2s 51us/step - loss: 0.0149 - acc: 0.9952 - val_loss: 0.1031 - val_acc: 0.9780\n",
      "Epoch 33/50\n",
      "45000/45000 [==============================] - 2s 52us/step - loss: 0.0163 - acc: 0.9950 - val_loss: 0.0952 - val_acc: 0.9791\n",
      "Epoch 34/50\n",
      "45000/45000 [==============================] - 2s 55us/step - loss: 0.0157 - acc: 0.9951 - val_loss: 0.1048 - val_acc: 0.9789\n",
      "Epoch 35/50\n",
      "45000/45000 [==============================] - 2s 52us/step - loss: 0.0155 - acc: 0.9949 - val_loss: 0.0979 - val_acc: 0.9783\n",
      "Epoch 36/50\n",
      "45000/45000 [==============================] - 2s 52us/step - loss: 0.0140 - acc: 0.9956 - val_loss: 0.0977 - val_acc: 0.9781\n",
      "Epoch 37/50\n",
      "45000/45000 [==============================] - 2s 53us/step - loss: 0.0128 - acc: 0.9960 - val_loss: 0.0988 - val_acc: 0.9793\n",
      "Epoch 38/50\n",
      "45000/45000 [==============================] - 2s 52us/step - loss: 0.0112 - acc: 0.9964 - val_loss: 0.0972 - val_acc: 0.9791\n",
      "Epoch 39/50\n",
      "45000/45000 [==============================] - 3s 64us/step - loss: 0.0117 - acc: 0.9963 - val_loss: 0.1008 - val_acc: 0.9789\n",
      "Epoch 40/50\n",
      "45000/45000 [==============================] - 3s 59us/step - loss: 0.0130 - acc: 0.9957 - val_loss: 0.1039 - val_acc: 0.9787\n",
      "Epoch 41/50\n",
      "45000/45000 [==============================] - 3s 60us/step - loss: 0.0141 - acc: 0.9955 - val_loss: 0.1018 - val_acc: 0.9790\n",
      "Epoch 42/50\n",
      "45000/45000 [==============================] - 3s 57us/step - loss: 0.0118 - acc: 0.9962 - val_loss: 0.1031 - val_acc: 0.9791\n",
      "Epoch 43/50\n",
      "45000/45000 [==============================] - 3s 57us/step - loss: 0.0125 - acc: 0.9957 - val_loss: 0.0990 - val_acc: 0.9805\n",
      "Epoch 44/50\n",
      "45000/45000 [==============================] - 3s 56us/step - loss: 0.0124 - acc: 0.9960 - val_loss: 0.1002 - val_acc: 0.9791\n",
      "Epoch 45/50\n",
      "45000/45000 [==============================] - 3s 56us/step - loss: 0.0095 - acc: 0.9972 - val_loss: 0.1033 - val_acc: 0.9797\n",
      "Epoch 46/50\n",
      "45000/45000 [==============================] - 3s 58us/step - loss: 0.0108 - acc: 0.9963 - val_loss: 0.1061 - val_acc: 0.9783\n",
      "Epoch 47/50\n",
      "45000/45000 [==============================] - 3s 59us/step - loss: 0.0116 - acc: 0.9963 - val_loss: 0.1069 - val_acc: 0.9785\n",
      "Epoch 48/50\n",
      "45000/45000 [==============================] - 3s 58us/step - loss: 0.0088 - acc: 0.9969 - val_loss: 0.1076 - val_acc: 0.9793\n",
      "Epoch 49/50\n",
      "45000/45000 [==============================] - 3s 58us/step - loss: 0.0099 - acc: 0.9968 - val_loss: 0.1053 - val_acc: 0.9789\n",
      "Epoch 50/50\n",
      "45000/45000 [==============================] - 3s 57us/step - loss: 0.0087 - acc: 0.9970 - val_loss: 0.1117 - val_acc: 0.9798\n"
     ]
    }
   ],
   "source": [
    "history = model.fit(X_train, y_train,\n",
    "                   batch_size=256, epochs=50,\n",
    "                   validation_split=0.25)"
   ]
  },
  {
   "cell_type": "code",
   "execution_count": 25,
   "metadata": {},
   "outputs": [
    {
     "data": {
      "image/png": "[encoded data removed]",
      "text/plain": [
       "<Figure size 432x288 with 1 Axes>"
      ]
     },
     "metadata": {},
     "output_type": "display_data"
    }
   ],
   "source": [
    "plt.plot(history.history['loss'])\n",
    "plt.show()"
   ]
  },
  {
   "cell_type": "code",
   "execution_count": 27,
   "metadata": {},
   "outputs": [
    {
     "name": "stdout",
     "output_type": "stream",
     "text": [
      "10000/10000 [==============================] - 1s 89us/step\n"
     ]
    }
   ],
   "source": [
    "test_loss, test_acc = model.evaluate(X_test, y_test)"
   ]
  },
  {
   "cell_type": "code",
   "execution_count": 28,
   "metadata": {},
   "outputs": [
    {
     "data": {
      "text/plain": [
       "0.9805"
      ]
     },
     "execution_count": 28,
     "metadata": {},
     "output_type": "execute_result"
    }
   ],
   "source": [
    "test_acc"
   ]
  },
  {
   "cell_type": "code",
   "execution_count": null,
   "metadata": {},
   "outputs": [],
   "source": []
  }
 ],
 "metadata": {
  "kernelspec": {
   "display_name": "Python 3 (ipykernel)",
   "language": "python",
   "name": "python3"
  },
  "language_info": {
   "codemirror_mode": {
    "name": "ipython",
    "version": 3
   },
   "file_extension": ".py",
   "mimetype": "text/x-python",
   "name": "python",
   "nbconvert_exporter": "python",
   "pygments_lexer": "ipython3",
   "version": "3.10.9"
  }
 },
 "nbformat": 4,
 "nbformat_minor": 4
}
