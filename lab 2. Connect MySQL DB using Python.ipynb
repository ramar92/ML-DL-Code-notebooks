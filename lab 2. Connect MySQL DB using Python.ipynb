{
 "cells": [
  {
   "cell_type": "markdown",
   "id": "e8e19b1b",
   "metadata": {},
   "source": [
    "# Database"
   ]
  },
  {
   "cell_type": "markdown",
   "id": "1ee7307f",
   "metadata": {},
   "source": [
    "**Creating a Database**      \n",
    "To create a database in MySQL, use the \"CREATE DATABASE\" statement:"
   ]
  },
  {
   "cell_type": "code",
   "execution_count": 2,
   "id": "dcd89a78",
   "metadata": {},
   "outputs": [
    {
     "name": "stdout",
     "output_type": "stream",
     "text": [
      "Defaulting to user installation because normal site-packages is not writeable\n",
      "Collecting mysql-connector-python\n",
      "  Downloading mysql_connector_python-8.1.0-cp310-cp310-win_amd64.whl (10.9 MB)\n",
      "     --------------------------------------- 10.9/10.9 MB 19.8 MB/s eta 0:00:00\n",
      "Collecting protobuf<=4.21.12,>=4.21.1\n",
      "  Downloading protobuf-4.21.12-cp310-abi3-win_amd64.whl (527 kB)\n",
      "     ------------------------------------- 527.0/527.0 kB 32.3 MB/s eta 0:00:00\n",
      "Installing collected packages: protobuf, mysql-connector-python\n",
      "Successfully installed mysql-connector-python-8.1.0 protobuf-4.21.12\n",
      "Note: you may need to restart the kernel to use updated packages.\n"
     ]
    }
   ],
   "source": [
    "pip install mysql-connector-python"
   ]
  },
  {
   "cell_type": "code",
   "execution_count": 5,
   "id": "9b0b9790",
   "metadata": {},
   "outputs": [
    {
     "name": "stdout",
     "output_type": "stream",
     "text": [
      "Defaulting to user installation because normal site-packages is not writeable\n",
      "Requirement already satisfied: mysql-connector-python in c:\\users\\rampa\\appdata\\roaming\\python\\python310\\site-packages (8.1.0)\n",
      "Requirement already satisfied: protobuf<=4.21.12,>=4.21.1 in c:\\users\\rampa\\appdata\\roaming\\python\\python310\\site-packages (from mysql-connector-python) (4.21.12)\n",
      "Note: you may need to restart the kernel to use updated packages.\n"
     ]
    }
   ],
   "source": [
    "pip install mysql-connector-python"
   ]
  },
  {
   "cell_type": "code",
   "execution_count": 3,
   "id": "768d696a",
   "metadata": {},
   "outputs": [],
   "source": [
    "import mysql.connector\n",
    "\n",
    "mydb = mysql.connector.connect(\n",
    "  host=\"localhost\",\n",
    "  user=\"root\",\n",
    "  password=\"12345\"\n",
    ")\n",
    "\n",
    "mycursor = mydb.cursor()\n",
    "\n",
    "mycursor.execute(\"CREATE DATABASE edunetDB01\")"
   ]
  },
  {
   "cell_type": "markdown",
   "id": "1b5fa280",
   "metadata": {},
   "source": [
    "If the above code was executed with no errors, you have successfully created a database."
   ]
  },
  {
   "cell_type": "markdown",
   "id": "23305de6",
   "metadata": {},
   "source": [
    "**Check if Database Exists**     \n",
    "You can check if a database exist by listing all databases in your system by using the \"SHOW DATABASES\" statement:"
   ]
  },
  {
   "cell_type": "code",
   "execution_count": 4,
   "id": "45729f01",
   "metadata": {},
   "outputs": [
    {
     "name": "stdout",
     "output_type": "stream",
     "text": [
      "('edunetdb01',)\n",
      "('information_schema',)\n",
      "('mysql',)\n",
      "('performance_schema',)\n",
      "('sakila',)\n",
      "('sys',)\n",
      "('world',)\n"
     ]
    }
   ],
   "source": [
    "import mysql.connector\n",
    "conn=mysql.connector.connect(host=\"localhost\", user=\"root\",\n",
    "                             password=\"12345\")\n",
    "\n",
    "c=conn.cursor()\n",
    "\n",
    "c.execute(\"show databases \")\n",
    "\n",
    "for i in c:\n",
    "    print(i)"
   ]
  },
  {
   "cell_type": "markdown",
   "id": "89b08c32",
   "metadata": {},
   "source": [
    "**Creating a Table**      \n",
    "To create a table in MySQL, use the \"CREATE TABLE\" statement.\n",
    "Make sure you define the name of the database when you create the connection"
   ]
  },
  {
   "cell_type": "code",
   "execution_count": 9,
   "id": "8687d481",
   "metadata": {},
   "outputs": [],
   "source": [
    "import mysql.connector\n",
    "\n",
    "db=mysql.connector.connect(\n",
    "    host=\"localhost\",\n",
    "    user=\"root\",\n",
    "    passwd=\"12345\",\n",
    "    database=\"edunetdb01\"\n",
    "    )\n",
    "\n",
    "c=db.cursor()\n",
    "\n",
    "sql ='''CREATE TABLE edunetdb01_CSE2(\n",
    "   Rno int not null primary key,\n",
    "   Name varchar(30) not null,\n",
    "   Branch CHAR(10),\n",
    "   Percentage FLOAT,\n",
    "   Email varchar(50),\n",
    "   MobileNo int)'''\n",
    "c.execute(sql)"
   ]
  },
  {
   "cell_type": "markdown",
   "id": "850ddb79",
   "metadata": {},
   "source": [
    "If the above code was executed with no errors, you have now successfully created a table."
   ]
  },
  {
   "cell_type": "markdown",
   "id": "804b9854",
   "metadata": {},
   "source": [
    "**Check if Table Exists**      \n",
    "You can check if a table exist by listing all tables in your database with the \"SHOW TABLES\" statement:"
   ]
  },
  {
   "cell_type": "code",
   "execution_count": 10,
   "id": "909bf8f1",
   "metadata": {},
   "outputs": [
    {
     "name": "stdout",
     "output_type": "stream",
     "text": [
      "('edunetdb01_cse1',)\n",
      "('edunetdb01_cse2',)\n"
     ]
    }
   ],
   "source": [
    "import mysql.connector\n",
    "\n",
    "db=mysql.connector.connect(\n",
    "    host=\"localhost\",\n",
    "    user=\"root\",\n",
    "    passwd=\"12345\",\n",
    "    database=\"edunetdb01\"\n",
    "    )\n",
    "\n",
    "c=db.cursor()\n",
    "c.execute(\"SHOW TABLES\")\n",
    "for i in c:\n",
    "    print(i)"
   ]
  },
  {
   "cell_type": "markdown",
   "id": "f0e23a2c",
   "metadata": {},
   "source": [
    "**Insert Into Table**       \n",
    "To fill a table in MySQL, use the \"INSERT INTO\" statement."
   ]
  },
  {
   "cell_type": "code",
   "execution_count": 11,
   "id": "4c14e3f9",
   "metadata": {},
   "outputs": [
    {
     "name": "stdout",
     "output_type": "stream",
     "text": [
      "1 record inserted.\n"
     ]
    }
   ],
   "source": [
    "import mysql.connector\n",
    "\n",
    "db=mysql.connector.connect(\n",
    "    host=\"localhost\",\n",
    "    user=\"root\",\n",
    "    passwd=\"12345\",\n",
    "    database=\"edunetdb01\"\n",
    "    )\n",
    "\n",
    "mycursor = db.cursor()\n",
    "\n",
    "sql = \"INSERT INTO edunetdb01_cse1 (Rno, Name, Branch,Percentage, Email, MobileNo) VALUES (%s, %s, %s, %s, %s, %s)\"\n",
    "val = (\"61\", \"Sameera\", \"CSE\", \"72\",\n",
    "       \"asd@gmail.com\", \"1234567890\")\n",
    "\n",
    "mycursor.execute(sql, val)\n",
    "\n",
    "db.commit()\n",
    "\n",
    "print(mycursor.rowcount, \"record inserted.\")"
   ]
  },
  {
   "cell_type": "markdown",
   "id": "4aabb499",
   "metadata": {},
   "source": [
    "**Insert Multiple Rows**      \n",
    "To insert multiple rows into a table, use the `executemany()` method.\n",
    "The second parameter of the `executemany()` method is a list of tuples, containing the data you want to insert:"
   ]
  },
  {
   "cell_type": "code",
   "execution_count": 12,
   "id": "85b43090",
   "metadata": {},
   "outputs": [
    {
     "name": "stdout",
     "output_type": "stream",
     "text": [
      "8 record was inserted.\n"
     ]
    }
   ],
   "source": [
    "import mysql.connector\n",
    "\n",
    "db=mysql.connector.connect(\n",
    "    host=\"localhost\",\n",
    "    user=\"root\",\n",
    "    passwd=\"12345\",\n",
    "    database=\"edunetdb01\"\n",
    "    )\n",
    "\n",
    "\n",
    "mycursor = db.cursor()\n",
    "\n",
    "sql = \"INSERT INTO edunetdb01_cse1 (Rno, Name, Branch, Percentage, Email, MobileNo) VALUES (%s,%s, %s, %s, %s, %s)\"\n",
    "val = [\n",
    " (\"01\", \"Anju\", \"ECE\", \"56\", \"abc@gmail.com\", \"1234565432\"),\n",
    " (\"02\", \"Kanwal\", \"ECE\", \"80\", \"abc@gmail.com\", \"1234565432\"),\n",
    " (\"03\", \"Sonu\", \"CSE\", \"85\", \"abc@gmail.com\", \"1234565432\"),\n",
    " (\"04\", \"Arun\", \"CSE\", \"83\", \"abc@gmail.com\", \"1234565432\"),\n",
    " (\"05\", \"Ravi\", \"CSE\", \"78\", \"abc@gmail.com\", \"1234565432\"),\n",
    " (\"06\", \"Anjali\", \"CSE\", \"65\", \"abc@gmail.com\", \"1234565432\"),\n",
    " (\"07\", \"Kesavan\", \"EEE\", \"95\", \"abc@gmail.com\", \"1234565432\"),\n",
    " (\"08\", \"Anu\", \"CSE\", \"55\", \"abc@gmail.com\", \"1234565432\"),\n",
    " ]\n",
    "mycursor.executemany(sql, val)\n",
    "db.commit()\n",
    "print(mycursor.rowcount, \"record was inserted.\")"
   ]
  },
  {
   "cell_type": "markdown",
   "id": "cc425eee",
   "metadata": {},
   "source": [
    "**Select From a Table**       \n",
    "To select from a table in MySQL, use the \"SELECT\" statement:"
   ]
  },
  {
   "cell_type": "code",
   "execution_count": 7,
   "id": "18275067",
   "metadata": {},
   "outputs": [
    {
     "name": "stdout",
     "output_type": "stream",
     "text": [
      "(1, 'Anju', 'ECE', 56.0, 'abc@gmail.com', 1234565432)\n",
      "(2, 'Kanwal', 'ECE', 80.0, 'abc@gmail.com', 1234565432)\n",
      "(3, 'Sonu', 'CSE', 85.0, 'abc@gmail.com', 1234565432)\n",
      "(4, 'Arun', 'CSE', 83.0, 'abc@gmail.com', 1234565432)\n",
      "(5, 'Ravi', 'CSE', 78.0, 'abc@gmail.com', 1234565432)\n",
      "(6, 'Anjali', 'CSE', 65.0, 'abc@gmail.com', 1234565432)\n",
      "(7, 'Kesavan', 'EEE', 95.0, 'abc@gmail.com', 1234565432)\n",
      "(8, 'Anu', 'CSE', 55.0, 'abc@gmail.com', 1234565432)\n",
      "(61, 'Sameera', 'CSE', 72.0, 'asd@gmail.com', 1234567890)\n"
     ]
    }
   ],
   "source": [
    "import mysql.connector\n",
    "\n",
    "db=mysql.connector.connect(\n",
    "    host=\"localhost\",\n",
    "    user=\"root\",\n",
    "    passwd=\"Rajasella@16\",\n",
    "    database=\"KIETW\"\n",
    "    )\n",
    "\n",
    "mycursor = db.cursor()\n",
    "\n",
    "mycursor.execute(\"SELECT * FROM KIET_CSE1\")\n",
    "\n",
    "myresult = mycursor.fetchall()\n",
    "\n",
    "for x in myresult:\n",
    "  print(x)"
   ]
  },
  {
   "cell_type": "markdown",
   "id": "3596e2de",
   "metadata": {},
   "source": [
    "Note: We use the `fetchall()` method, which fetches all rows from the last executed statement."
   ]
  },
  {
   "cell_type": "markdown",
   "id": "bd2db7b2",
   "metadata": {},
   "source": [
    "**Select With a Filter**       \n",
    "When selecting records from a table, you can filter the selection by using the \"WHERE\" statement:"
   ]
  },
  {
   "cell_type": "code",
   "execution_count": 9,
   "id": "204d3419",
   "metadata": {},
   "outputs": [
    {
     "name": "stdout",
     "output_type": "stream",
     "text": [
      "(1, 'Anju', 'ECE', 56.0, 'abc@gmail.com', 1234565432)\n",
      "(2, 'Kanwal', 'ECE', 80.0, 'abc@gmail.com', 1234565432)\n"
     ]
    }
   ],
   "source": [
    "import mysql.connector\n",
    "\n",
    "db=mysql.connector.connect(\n",
    "    host=\"localhost\",\n",
    "    user=\"root\",\n",
    "    passwd=\"Rajasella@16\",\n",
    "    database=\"KIETW\"\n",
    "    )\n",
    "\n",
    "mycursor = db.cursor()\n",
    "\n",
    "sql = \"SELECT * FROM KIET_CSE1 WHERE branch = 'ECE'\"\n",
    "\n",
    "mycursor.execute(sql)\n",
    "\n",
    "myresult = mycursor.fetchall()\n",
    "\n",
    "for x in myresult:\n",
    "  print(x)"
   ]
  },
  {
   "cell_type": "markdown",
   "id": "e8f2f724",
   "metadata": {},
   "source": [
    "**Delete Record**      \n",
    "You can delete records from an existing table by using the \"DELETE FROM\" statement:"
   ]
  },
  {
   "cell_type": "code",
   "execution_count": 10,
   "id": "d911652b",
   "metadata": {},
   "outputs": [
    {
     "name": "stdout",
     "output_type": "stream",
     "text": [
      "1 record(s) deleted\n"
     ]
    }
   ],
   "source": [
    "import mysql.connector\n",
    "\n",
    "db=mysql.connector.connect(\n",
    "    host=\"localhost\",\n",
    "    user=\"root\",\n",
    "    passwd=\"Rajasella@16\",\n",
    "    database=\"KIETW\"\n",
    "    )\n",
    "\n",
    "mycursor = db.cursor()\n",
    "\n",
    "sql = \"DELETE FROM KIET_CSE1 WHERE Name = 'Anu'\"\n",
    "\n",
    "mycursor.execute(sql)\n",
    "\n",
    "db.commit()\n",
    "\n",
    "print(mycursor.rowcount, \"record(s) deleted\")"
   ]
  },
  {
   "cell_type": "markdown",
   "id": "7f6d75b5",
   "metadata": {},
   "source": [
    "Important!: Notice the statement: `mydb.commit()`. It is required to make the changes, otherwise no changes are made to the table."
   ]
  },
  {
   "cell_type": "markdown",
   "id": "3c6637d8",
   "metadata": {},
   "source": [
    "**Prevent SQL Injection**        \n",
    "It is considered a good practice to escape the values of any query, also in delete statements.\n",
    "This is to prevent SQL injections, which is a common web hacking technique to destroy or misuse your database.\n",
    "The mysql.connector module uses the placeholder %s to escape values in the delete statement:"
   ]
  },
  {
   "cell_type": "code",
   "execution_count": 11,
   "id": "505537d8",
   "metadata": {},
   "outputs": [
    {
     "name": "stdout",
     "output_type": "stream",
     "text": [
      "(1, 'Anju', 'ECE', 56.0, 'abc@gmail.com', 1234565432)\n"
     ]
    }
   ],
   "source": [
    "import mysql.connector\n",
    "\n",
    "db=mysql.connector.connect(\n",
    "    host=\"localhost\",\n",
    "    user=\"root\",\n",
    "    passwd=\"Rajasella@16\",\n",
    "    database=\"KIETW\"\n",
    "    )\n",
    "\n",
    "mycursor = db.cursor()\n",
    "\n",
    "sql = \"SELECT * FROM KIET_CSE1 WHERE Name = %s\"\n",
    "adr = (\"Anju\", )\n",
    "\n",
    "mycursor.execute(sql, adr)\n",
    "\n",
    "myresult = mycursor.fetchall()\n",
    "\n",
    "for x in myresult:\n",
    "  print(x)"
   ]
  },
  {
   "cell_type": "code",
   "execution_count": null,
   "id": "6bdfe8b1",
   "metadata": {},
   "outputs": [],
   "source": []
  }
 ],
 "metadata": {
  "kernelspec": {
   "display_name": "Python 3 (ipykernel)",
   "language": "python",
   "name": "python3"
  },
  "language_info": {
   "codemirror_mode": {
    "name": "ipython",
    "version": 3
   },
   "file_extension": ".py",
   "mimetype": "text/x-python",
   "name": "python",
   "nbconvert_exporter": "python",
   "pygments_lexer": "ipython3",
   "version": "3.10.9"
  }
 },
 "nbformat": 4,
 "nbformat_minor": 5
}
